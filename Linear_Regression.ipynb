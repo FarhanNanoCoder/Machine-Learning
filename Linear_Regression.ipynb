{
 "cells": [
  {
   "cell_type": "code",
   "execution_count": 23,
   "metadata": {},
   "outputs": [],
   "source": [
    "import numpy as np\n",
    "import matplotlib.pyplot as plt\n",
    "import pandas as pd\n",
    "from sklearn.preprocessing import StandardScaler\n",
    "from sklearn.compose import ColumnTransformer\n",
    "from sklearn.linear_model import LinearRegression\n",
    "from sklearn.model_selection import train_test_split"
   ]
  },
  {
   "cell_type": "markdown",
   "metadata": {},
   "source": [
    "## Data Handlation"
   ]
  },
  {
   "cell_type": "code",
   "execution_count": 24,
   "metadata": {},
   "outputs": [
    {
     "name": "stdout",
     "output_type": "stream",
     "text": [
      "(95, 5) (95, 1)\n"
     ]
    }
   ],
   "source": [
    "df = pd.read_csv('data/iris-data.csv')\n",
    "df = df.dropna()\n",
    "df['class'].replace([\"Iris-setosa\", \"Iris-versicolor\"], [1, 0], inplace=True)\n",
    "X = df.iloc[:, :-1].values\n",
    "Y = df.iloc[:, 4].values\n",
    "\n",
    "scalar = StandardScaler()\n",
    "X = scalar.fit_transform(X)\n",
    "X = np.append(X,np.ones((X.shape[0],1)),axis=1)\n",
    "Y = Y.reshape((Y.shape[0],1))\n",
    "print(X.shape,Y.shape)"
   ]
  },
  {
   "cell_type": "markdown",
   "metadata": {},
   "source": [
    "## Model"
   ]
  },
  {
   "cell_type": "code",
   "execution_count": 25,
   "metadata": {},
   "outputs": [],
   "source": [
    "def model(x,w):\n",
    "    return np.dot(x,w)"
   ]
  },
  {
   "cell_type": "code",
   "execution_count": 26,
   "metadata": {},
   "outputs": [],
   "source": [
    "def loss_mse(y,y_pred):\n",
    "    return np.sum((y-y_pred)**2)/2*y.shape[0]"
   ]
  },
  {
   "cell_type": "code",
   "execution_count": 27,
   "metadata": {},
   "outputs": [],
   "source": [
    "def fit(x,y,lr=0.01,epoch=20):\n",
    "    w = np.zeros(x.shape[1])\n",
    "    \n",
    "    for e in range(epoch):\n",
    "        total_loss =0.0\n",
    "        for i in range(x.shape[0]):\n",
    "            y_pred = model(x[i],w)\n",
    "            loss = loss_mse(y[i],y_pred)\n",
    "            total_loss += loss\n",
    "\n",
    "            for j  in range(w.shape[0]):\n",
    "                dw = (y_pred-y[i])*x[i,j]\n",
    "                w[j] -= lr*dw\n",
    "            \n",
    "        avg_cost = total_loss/x.shape[0]\n",
    "        print(\"Epoch \",e+1,\" Cost: \",avg_cost, \"W: \",w)\n",
    "        \n",
    "    return w\n",
    "\n"
   ]
  },
  {
   "cell_type": "markdown",
   "metadata": {},
   "source": [
    "## Test"
   ]
  },
  {
   "cell_type": "code",
   "execution_count": 28,
   "metadata": {},
   "outputs": [
    {
     "name": "stdout",
     "output_type": "stream",
     "text": [
      "Epoch  1  Cost:  0.09812166120827467 W:  [-0.01529005  0.11890359 -0.16442557 -0.16458578  0.26278349]\n",
      "Epoch  2  Cost:  0.019236724275818993 W:  [-0.0106942   0.12021913 -0.19385849 -0.19468542  0.38110748]\n",
      "Epoch  3  Cost:  0.008458757377784206 W:  [-0.00612349  0.11094893 -0.20260258 -0.20361455  0.4348653 ]\n",
      "Epoch  4  Cost:  0.006290073250253443 W:  [-0.00291764  0.10340552 -0.20697328 -0.20782043  0.45928829]\n",
      "Epoch  5  Cost:  0.0058250904457935295 W:  [-0.00067903  0.09810675 -0.20977764 -0.21025865  0.47033548]\n",
      "Epoch  6  Cost:  0.00571950967002213 W:  [ 0.00092543  0.09443424 -0.21175311 -0.21175436  0.47529015]\n",
      "Epoch  7  Cost:  0.005692082900869224 W:  [ 0.00209523  0.09187084 -0.21321299 -0.21266948  0.47748025]\n",
      "Epoch  8  Cost:  0.005682901540914955 W:  [ 0.00295445  0.09006542 -0.21433142 -0.21320573  0.47842441]\n",
      "Epoch  9  Cost:  0.005678743696826894 W:  [ 0.00358682  0.0887839  -0.2152163  -0.21348737  0.47881352]\n",
      "Epoch  10  Cost:  0.0056763965360807755 W:  [ 0.00405213  0.08786835 -0.21593791 -0.21359489  0.47896014]\n",
      "Epoch  11  Cost:  0.005674902114627187 W:  [ 0.00439437  0.08721062 -0.21654351 -0.2135821   0.47900443]\n",
      "Epoch  12  Cost:  0.0056738811051686095 W:  [ 0.00464615  0.0867357  -0.21706557 -0.21348579  0.47900826]\n",
      "Epoch  13  Cost:  0.005673143904902715 W:  [ 0.00483168  0.08639103 -0.21752672 -0.21333155  0.47899825]\n",
      "Epoch  14  Cost:  0.005672583435010772 W:  [ 0.00496882  0.08613948 -0.21794293 -0.21313734  0.47898532]\n",
      "Epoch  15  Cost:  0.005672136071977684 W:  [ 0.00507073  0.08595468 -0.21832556 -0.2129159   0.47897351]\n",
      "Epoch  16  Cost:  0.005671763133044491 W:  [ 0.00514704  0.08581784 -0.21868272 -0.21267625  0.47896401]\n",
      "Epoch  17  Cost:  0.005671440721098617 W:  [ 0.00520477  0.08571551 -0.21902024 -0.21242484  0.47895685]\n",
      "Epoch  18  Cost:  0.0056711538313718056 W:  [ 0.00524902  0.08563804 -0.21934231 -0.21216627  0.47895169]\n",
      "Epoch  19  Cost:  0.00567089286715439 W:  [ 0.0052835   0.08557853 -0.21965198 -0.21190381  0.47894811]\n",
      "Epoch  20  Cost:  0.005670651562938287 W:  [ 0.00531087  0.08553199 -0.21995146 -0.21163981  0.47894574]\n"
     ]
    }
   ],
   "source": [
    "x_train,x_test,y_train,y_test = train_test_split(X,Y,test_size=0.2,random_state=0)\n",
    "y_pred1 = model(x_test,fit(x_train,y_train))"
   ]
  },
  {
   "cell_type": "code",
   "execution_count": 37,
   "metadata": {},
   "outputs": [
    {
     "name": "stdout",
     "output_type": "stream",
     "text": [
      "Custom Linear Regression:  [ 0.97961442  0.99602426  0.01555132  0.96448871  0.9920075  -0.03133314\n",
      "  0.16568848  0.00392635  0.9427041  -0.03211482  0.1505773   0.96680962\n",
      " -0.04324467  0.12810808  0.06982811  0.04385179  1.01603912  1.0047007\n",
      " -0.07085456]\n",
      "Sklearn Linear Regression:  [[ 0.97828418]\n",
      " [ 0.99727186]\n",
      " [ 0.01578252]\n",
      " [ 0.96831504]\n",
      " [ 0.99542744]\n",
      " [-0.03565265]\n",
      " [ 0.15626538]\n",
      " [ 0.00461281]\n",
      " [ 0.93927536]\n",
      " [-0.03749528]\n",
      " [ 0.11386342]\n",
      " [ 0.96264643]\n",
      " [-0.04319315]\n",
      " [ 0.12166854]\n",
      " [ 0.06573786]\n",
      " [ 0.04473756]\n",
      " [ 1.01960949]\n",
      " [ 1.00481058]\n",
      " [-0.104816  ]]\n"
     ]
    }
   ],
   "source": [
    "linear_regressor = LinearRegression()\n",
    "linear_regressor.fit(x_train,y_train)\n",
    "y_pred2 = linear_regressor.predict(x_test)\n",
    "\n",
    "print(\"Custom Linear Regression: \",y_pred1)\n",
    "print(\"Sklearn Linear Regression: \",y_pred2)"
   ]
  }
 ],
 "metadata": {
  "kernelspec": {
   "display_name": "base",
   "language": "python",
   "name": "python3"
  },
  "language_info": {
   "codemirror_mode": {
    "name": "ipython",
    "version": 3
   },
   "file_extension": ".py",
   "mimetype": "text/x-python",
   "name": "python",
   "nbconvert_exporter": "python",
   "pygments_lexer": "ipython3",
   "version": "3.10.9"
  },
  "orig_nbformat": 4
 },
 "nbformat": 4,
 "nbformat_minor": 2
}
