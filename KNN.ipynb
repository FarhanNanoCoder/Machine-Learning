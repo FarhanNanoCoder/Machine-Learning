{
 "cells": [
  {
   "cell_type": "code",
   "execution_count": 44,
   "metadata": {},
   "outputs": [],
   "source": [
    "import matplotlib.pyplot as plt\n",
    "import numpy as np\n",
    "from sklearn.preprocessing import LabelEncoder\n",
    "from sklearn.neighbors import KNeighborsClassifier\n",
    "from sklearn.model_selection import train_test_split\n",
    "import pandas as pd"
   ]
  },
  {
   "cell_type": "markdown",
   "metadata": {},
   "source": [
    "## KNN Classifier"
   ]
  },
  {
   "cell_type": "code",
   "execution_count": 45,
   "metadata": {},
   "outputs": [],
   "source": [
    "def ecl(p1,p2):\n",
    "    return np.sqrt(np.sum((p1-p2)**2))"
   ]
  },
  {
   "cell_type": "code",
   "execution_count": 46,
   "metadata": {},
   "outputs": [],
   "source": [
    "def KNN_Classifier(x_train, x_test, y_train, y_test, k=11):\n",
    "    y_pred = []\n",
    "    for i in range(len(x_test)):\n",
    "        dist = []\n",
    "        for j in range(len(x_train)):\n",
    "            dist.append(ecl(x_test[i],x_train[j]))\n",
    "        dist = np.array(dist)\n",
    "        dist = dist.argsort()[:k]\n",
    "        y_pred.append(np.argmax(np.bincount(y_train[dist])))\n",
    "    return y_pred"
   ]
  },
  {
   "cell_type": "markdown",
   "metadata": {},
   "source": [
    "## Data Handlation"
   ]
  },
  {
   "cell_type": "code",
   "execution_count": 47,
   "metadata": {},
   "outputs": [],
   "source": [
    "df = pd.read_csv('data/Prostate_Cancer.csv')\n",
    "label_encoder = LabelEncoder()\n",
    "df['diagnosis_result'] = label_encoder.fit_transform(df['diagnosis_result'] )\n",
    "X= df.drop('diagnosis_result',axis=1)\n",
    "Y = df['diagnosis_result']\n",
    "\n",
    "# print(X,'\\n',Y,'\\n',label_encoder.classes_,'\\n',list(X.columns))\n",
    "\n",
    "x_train,x_test,y_train,y_test = train_test_split(X.values,Y.values,test_size=0.2,random_state=1234)\n",
    "#just visualizing the data\n",
    "# plt.scatter(x_train[:,0],x_train[:,1],c=y_train,alpha=0.8)"
   ]
  },
  {
   "cell_type": "markdown",
   "metadata": {},
   "source": [
    "## Test"
   ]
  },
  {
   "cell_type": "code",
   "execution_count": 48,
   "metadata": {},
   "outputs": [
    {
     "name": "stdout",
     "output_type": "stream",
     "text": [
      "[1, 1, 0, 0, 0, 0, 1, 1, 0, 1, 1, 0, 0, 1, 1, 1, 0, 1, 0, 1] \n",
      " [1 1 0 0 0 0 1 1 0 1 1 0 0 1 1 1 0 1 0 1] \n",
      " [1 1 0 0 0 0 1 1 1 1 1 0 0 1 1 1 0 0 0 1]\n"
     ]
    }
   ],
   "source": [
    "y_pred1 = KNN_Classifier(x_train,x_test,y_train,y_test)\n",
    "knn = KNeighborsClassifier(n_neighbors=11)\n",
    "knn.fit(x_train,y_train)\n",
    "y_pred2 = knn.predict(x_test)\n",
    "print(y_pred1,'\\n',y_pred2,'\\n',y_test)"
   ]
  },
  {
   "cell_type": "code",
   "execution_count": null,
   "metadata": {},
   "outputs": [],
   "source": []
  }
 ],
 "metadata": {
  "kernelspec": {
   "display_name": "base",
   "language": "python",
   "name": "python3"
  },
  "language_info": {
   "codemirror_mode": {
    "name": "ipython",
    "version": 3
   },
   "file_extension": ".py",
   "mimetype": "text/x-python",
   "name": "python",
   "nbconvert_exporter": "python",
   "pygments_lexer": "ipython3",
   "version": "3.10.9"
  },
  "orig_nbformat": 4
 },
 "nbformat": 4,
 "nbformat_minor": 2
}
