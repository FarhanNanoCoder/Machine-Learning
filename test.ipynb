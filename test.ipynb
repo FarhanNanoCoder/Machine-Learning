{
 "cells": [
  {
   "cell_type": "code",
   "execution_count": 6,
   "metadata": {},
   "outputs": [
    {
     "name": "stdout",
     "output_type": "stream",
     "text": [
      "<class 'pandas.core.frame.DataFrame'>\n",
      "Int64Index: 95 entries, 0 to 99\n",
      "Data columns (total 5 columns):\n",
      " #   Column           Non-Null Count  Dtype  \n",
      "---  ------           --------------  -----  \n",
      " 0   sepal_length_cm  95 non-null     float64\n",
      " 1   sepal_width_cm   95 non-null     float64\n",
      " 2   petal_length_cm  95 non-null     float64\n",
      " 3   petal_width_cm   95 non-null     float64\n",
      " 4   class            95 non-null     object \n",
      "dtypes: float64(4), object(1)\n",
      "memory usage: 4.5+ KB\n",
      "(95, 4) (95, 1)\n",
      "1 . Loss: 0.09564900256069792 , W: [-0.00324573  0.09356228 -0.16548908 -0.16563826  0.25439489]\n",
      "2 . Loss: 0.018666480919800898 , W: [ 0.00989474  0.10463833 -0.20197098 -0.20226924  0.37080972]\n",
      "3 . Loss: 0.007457716004305886 , W: [ 0.0200584   0.10311833 -0.21375982 -0.21386951  0.42395643]\n",
      "4 . Loss: 0.005227909360273267 , W: [ 0.02666927  0.09997112 -0.21927192 -0.21895122  0.44809966]\n",
      "5 . Loss: 0.004741961278099517 , W: [ 0.03093953  0.09699741 -0.22252546 -0.22162154  0.45897026]\n",
      "6 . Loss: 0.004624440169157101 , W: [ 0.03377462  0.09448791 -0.22472384 -0.22313846  0.46378811]\n",
      "7 . Loss: 0.004589117287288333 , W: [ 0.0357199   0.09244873 -0.22634751 -0.22401556  0.46586276]\n",
      "8 . Loss: 0.00457439682949076 , W: [ 0.03709511  0.09082235 -0.22762566 -0.2245034   0.46670757]\n",
      "9 . Loss: 0.004566252601975793 , W: [ 0.0380912   0.08953904 -0.22867984 -0.22473823  0.46701155]\n",
      "10 . Loss: 0.004560995922349627 , W: [ 0.03882625  0.08853265 -0.2295799  -0.22480044  0.46708607]\n"
     ]
    },
    {
     "data": {
      "text/plain": [
       "array([ 0.03882625,  0.08853265, -0.2295799 , -0.22480044,  0.46708607])"
      ]
     },
     "execution_count": 6,
     "metadata": {},
     "output_type": "execute_result"
    }
   ],
   "source": [
    "import matplotlib.pyplot as plt\n",
    "import numpy as np\n",
    "import pandas as pd\n",
    "\n",
    "import sklearn\n",
    "from sklearn.model_selection import train_test_split\n",
    "from sklearn.preprocessing import StandardScaler\n",
    "\n",
    "df = pd.read_csv('data/iris-data.csv')\n",
    "df = df.dropna()\n",
    "df.info()\n",
    "\n",
    "df['class'].replace([\"Iris-setosa\", \"Iris-versicolor\"], [1, 0], inplace=True)\n",
    "\n",
    "inp_df = df.drop(df.columns[[4]], axis=1)\n",
    "out_df = df.drop(df.columns[[0, 1, 2, 3]], axis=1)\n",
    "\n",
    "print(inp_df.shape, out_df.shape)\n",
    "scaler = StandardScaler()\n",
    "inp_df = scaler.fit_transform(inp_df)\n",
    "\n",
    "new_c = (np.zeros(shape=(inp_df.shape[0], 1)) + 1)\n",
    "inp_df = np.concatenate((inp_df, new_c), axis=1)\n",
    "\n",
    "X_train, X_test, y_train, y_test = train_test_split(inp_df, out_df, test_size=0.2, random_state=42)\n",
    "\n",
    "def model(X, W):\n",
    "    # Linear regression model implementation\n",
    "    return np.dot(X, W)\n",
    "\n",
    "def loss_mse(y_true, y_pred):\n",
    "    # Mean squared error loss\n",
    "    n_samples = y_true.shape[0]\n",
    "    loss = np.sum((y_true - y_pred) ** 2) / (2 * n_samples)\n",
    "    return loss\n",
    "\n",
    "def fit(num_weights, epoch=10, lr=0.01):\n",
    "    # Initialization\n",
    "    W = np.zeros(num_weights)\n",
    "\n",
    "    # Epochs start\n",
    "    for e in range(1, epoch + 1):\n",
    "        total_loss = 0.0\n",
    "        for i in range(X_train.shape[0]):\n",
    "            X_i = X_train[i]\n",
    "            y_i = y_train.iloc[i]\n",
    "\n",
    "            y_pred = model(X_i, W)\n",
    "            loss = loss_mse(y_i, y_pred)\n",
    "            total_loss += loss\n",
    "\n",
    "            for j in range(W.shape[0]):\n",
    "                # Calculate derivative against parameters\n",
    "                dw_j = (y_pred - y_i) * X_i[j]\n",
    "                # Update parameters\n",
    "                W[j] = W[j] - lr * dw_j\n",
    "\n",
    "        avg_loss = total_loss / X_train.shape[0]\n",
    "        print(e, \". Loss:\", avg_loss, \", W:\", W)\n",
    "\n",
    "    return W\n",
    "\n",
    "fit(5, epoch=10, lr=0.01)\n"
   ]
  },
  {
   "cell_type": "code",
   "execution_count": 5,
   "metadata": {},
   "outputs": [
    {
     "name": "stdout",
     "output_type": "stream",
     "text": [
      "    class\n",
      "71      0\n",
      "20      1\n",
      "83      0\n",
      "84      0\n",
      "35      1\n",
      "..    ...\n",
      "65      0\n",
      "76      0\n",
      "19      1\n",
      "97      0\n",
      "56      0\n",
      "\n",
      "[76 rows x 1 columns]\n"
     ]
    }
   ],
   "source": [
    "print(y_train)"
   ]
  }
 ],
 "metadata": {
  "kernelspec": {
   "display_name": "base",
   "language": "python",
   "name": "python3"
  },
  "language_info": {
   "codemirror_mode": {
    "name": "ipython",
    "version": 3
   },
   "file_extension": ".py",
   "mimetype": "text/x-python",
   "name": "python",
   "nbconvert_exporter": "python",
   "pygments_lexer": "ipython3",
   "version": "3.10.9"
  },
  "orig_nbformat": 4
 },
 "nbformat": 4,
 "nbformat_minor": 2
}
